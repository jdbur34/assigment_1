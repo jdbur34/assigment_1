{
 "cells": [
  {
   "cell_type": "markdown",
   "id": "c850aa8c-5045-4a77-a01c-a0b40e4e50d4",
   "metadata": {},
   "source": [
    "How do you comment code in Python? What are the different types of comments?\n",
    "We can use ## or # to write down a comment in python \n",
    "Comments in python are of 2 types this single line comment and multiline comments \n"
   ]
  },
  {
   "cell_type": "code",
   "execution_count": null,
   "id": "6488b4f0-5689-47d7-b482-f45dcf3a4d1d",
   "metadata": {},
   "outputs": [],
   "source": [
    "##What are variables in Python? How do you declare and assign values to variables?\n",
    "##variables are like pen boxex in python which are used to store some kind of data \n",
    "##avariable is declared by using a aset of strings followed by = sign to know the data tha is put inside the variable \n",
    "a = 12"
   ]
  },
  {
   "cell_type": "markdown",
   "id": "913fe0de-6c40-48d4-bef6-316bfa6ab881",
   "metadata": {},
   "source": [
    "How do you convert one data type to another in Python?\n",
    "typecasting is used in python to covert one type of variable to another "
   ]
  },
  {
   "cell_type": "code",
   "execution_count": 6,
   "id": "b85134f4-0a9d-4e20-88cd-0925081a9222",
   "metadata": {},
   "outputs": [
    {
     "name": "stdout",
     "output_type": "stream",
     "text": [
      "<class 'int'>\n",
      "<class 'str'>\n"
     ]
    }
   ],
   "source": [
    "s = 10 \n",
    "print(type(s))\n",
    "a = str(s)\n",
    "print(type(a))"
   ]
  },
  {
   "cell_type": "markdown",
   "id": "d29fb40c-0518-40d4-b8f9-0265d347a365",
   "metadata": {},
   "source": [
    "How do you write and execute a Python script from the command line?\n",
    "First the system we are using must have installed python language in it\n",
    "Then we have to open cmd and type python and press enter.this will open the python language in cmd \n",
    "Then we have to write our desired command in cmd and press enter then we can get the reasult "
   ]
  },
  {
   "cell_type": "code",
   "execution_count": 12,
   "id": "0db4a20c-2065-4c41-a7a1-9319c02d7665",
   "metadata": {},
   "outputs": [
    {
     "name": "stdout",
     "output_type": "stream",
     "text": [
      "[2, 3]\n"
     ]
    }
   ],
   "source": [
    "##Given a list my_list = [1, 2, 3, 4, 5], write the code to slice the list and obtain the sub-list [2, 3].\n",
    "my_list = [1, 2, 3, 4, 5]\n",
    "print(my_list[1:3])"
   ]
  },
  {
   "cell_type": "markdown",
   "id": "44305f61-b974-423d-84a0-a4688f7800cc",
   "metadata": {},
   "source": [
    "What is a complex number in mathematics, and how is it represented in Python?\n",
    "the numbers that are expressed in the form of a+ib where, a,b are real numbers and 'i' is an imaginary number\n",
    "it is expressed inthe form a+jb where b is the imaginary part and a is the real part  "
   ]
  },
  {
   "cell_type": "code",
   "execution_count": 14,
   "id": "fcc401a6-72cd-4766-a81a-cdf4fc8c060b",
   "metadata": {},
   "outputs": [
    {
     "name": "stdout",
     "output_type": "stream",
     "text": [
      "<class 'complex'>\n"
     ]
    }
   ],
   "source": [
    "b = 1 + 3j \n",
    "print(type(b))"
   ]
  },
  {
   "cell_type": "code",
   "execution_count": null,
   "id": "ed3483f8-2e54-44d9-85a2-f7cde0ab34ab",
   "metadata": {},
   "outputs": [],
   "source": [
    "##What is the correct way to declare a variable named age and assign the value 25 to it?\n",
    "age = 25"
   ]
  },
  {
   "cell_type": "code",
   "execution_count": 15,
   "id": "9d3bc49a-92a7-40fe-af5b-8a5719b82119",
   "metadata": {},
   "outputs": [
    {
     "name": "stdout",
     "output_type": "stream",
     "text": [
      "<class 'float'>\n"
     ]
    }
   ],
   "source": [
    "##Declare a variable named price and assign the value 9.99 to it. What data type does this variable\n",
    "##belong to?\n",
    "price = 9.99\n",
    "print(type(price))"
   ]
  },
  {
   "cell_type": "code",
   "execution_count": 16,
   "id": "bbdde278-1e65-4409-9adc-b1f3934f3022",
   "metadata": {},
   "outputs": [
    {
     "name": "stdout",
     "output_type": "stream",
     "text": [
      "Jishnudeep Burman\n"
     ]
    }
   ],
   "source": [
    "##Create a variable named name and assign your full name to it as a string. How would you print the\n",
    "##value of this variable?\n",
    "Name = \"Jishnudeep Burman\"\n",
    "print(Name)"
   ]
  },
  {
   "cell_type": "code",
   "execution_count": 18,
   "id": "7d7d9773-23a7-49b5-9f81-6b7964c5e5df",
   "metadata": {},
   "outputs": [
    {
     "name": "stdout",
     "output_type": "stream",
     "text": [
      " world\n"
     ]
    }
   ],
   "source": [
    "##Given the string \"Hello, World!\", extract the substring \"World\".\n",
    "h = \"Hello world!\"\n",
    "print(h[5:11])"
   ]
  },
  {
   "cell_type": "code",
   "execution_count": 23,
   "id": "d709a815-711c-4875-ad29-790d445fdaa5",
   "metadata": {},
   "outputs": [
    {
     "name": "stdin",
     "output_type": "stream",
     "text": [
      " True\n"
     ]
    },
    {
     "name": "stdout",
     "output_type": "stream",
     "text": [
      "Not student\n"
     ]
    }
   ],
   "source": [
    "##Create a variable named \"is_student\" and assign it a boolean value indicating whether you are\n",
    "##currently a student or not. \n",
    "is_student = input()\n",
    "if (is_student == True):\n",
    "    print(\"Is student\")\n",
    "else:\n",
    "    print(\"Not student\")"
   ]
  }
 ],
 "metadata": {
  "kernelspec": {
   "display_name": "Python 3 (ipykernel)",
   "language": "python",
   "name": "python3"
  },
  "language_info": {
   "codemirror_mode": {
    "name": "ipython",
    "version": 3
   },
   "file_extension": ".py",
   "mimetype": "text/x-python",
   "name": "python",
   "nbconvert_exporter": "python",
   "pygments_lexer": "ipython3",
   "version": "3.10.8"
  }
 },
 "nbformat": 4,
 "nbformat_minor": 5
}
