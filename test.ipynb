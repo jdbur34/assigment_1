{
 "cells": [
  {
   "cell_type": "code",
   "execution_count": 2,
   "id": "1ac908b9-647e-4df6-ac61-ce2f488fdd2e",
   "metadata": {},
   "outputs": [],
   "source": [
    "a = 12.34\n",
    "b = \"jishnu\"\n",
    "c = [1,3,\"jdhd\",4,5.6]\n",
    "tuple1 = (0, 1, 2, 3)"
   ]
  },
  {
   "cell_type": "code",
   "execution_count": 4,
   "id": "e0269979-4d9d-4375-a30a-48309f27f8b9",
   "metadata": {},
   "outputs": [
    {
     "name": "stdout",
     "output_type": "stream",
     "text": [
      "<class 'str'>\n",
      "<class 'str'>\n",
      "<class 'list'>\n",
      "<class 'int'>\n"
     ]
    }
   ],
   "source": [
    "var1 = \" \"\n",
    "var2 = \"[ DS , ML , Python]\"\n",
    "var3 = [ \"DS\" , \"ML\" , \"Python\" ]\n",
    "var4 = 1\n",
    "print(type(var1))\n",
    "print(type(var2))\n",
    "print(type(var3))\n",
    "print(type(var4))"
   ]
  },
  {
   "cell_type": "code",
   "execution_count": 11,
   "id": "b32502bd-1d8d-435a-a917-5642773a600c",
   "metadata": {},
   "outputs": [
    {
     "name": "stdout",
     "output_type": "stream",
     "text": [
      "1\n",
      "<class 'int'>\n",
      "3\n",
      "<class 'int'>\n",
      "jdhd\n",
      "<class 'str'>\n",
      "4\n",
      "<class 'int'>\n",
      "5.6\n",
      "<class 'float'>\n"
     ]
    }
   ],
   "source": [
    "c = [1,3,\"jdhd\",4,5.6]\n",
    "for i in c:\n",
    "    print(i)\n",
    "    print(type(i))\n",
    "    "
   ]
  },
  {
   "cell_type": "code",
   "execution_count": 7,
   "id": "330c9f24-96fd-4bf9-ae1a-a839398a8b8a",
   "metadata": {},
   "outputs": [
    {
     "name": "stdout",
     "output_type": "stream",
     "text": [
      "x is not divisible by y\n"
     ]
    }
   ],
   "source": [
    "x = 12 \n",
    "y = 11\n",
    "z = x % y\n",
    "while z == 0:\n",
    "    print(\"x is purely divisible by y\")\n",
    "    print(x/y)\n",
    "    break\n",
    "else:\n",
    "    print(\"x is not purely divisible by y\")"
   ]
  },
  {
   "cell_type": "code",
   "execution_count": 15,
   "id": "261e3f0f-a521-4256-b183-c7c425c0128c",
   "metadata": {},
   "outputs": [
    {
     "name": "stdout",
     "output_type": "stream",
     "text": [
      "1\n",
      "is not divisible by 3 \n",
      "2\n",
      "is not divisible by 3 \n",
      "3\n",
      "is divisible by 3\n",
      "4\n",
      "is not divisible by 3 \n",
      "5\n",
      "is not divisible by 3 \n",
      "6\n",
      "is divisible by 3\n",
      "7\n",
      "is not divisible by 3 \n",
      "8\n",
      "is not divisible by 3 \n",
      "9\n",
      "is divisible by 3\n",
      "10\n",
      "is not divisible by 3 \n",
      "11\n",
      "is not divisible by 3 \n",
      "12\n",
      "is divisible by 3\n",
      "13\n",
      "is not divisible by 3 \n",
      "14\n",
      "is not divisible by 3 \n",
      "15\n",
      "is divisible by 3\n",
      "17\n",
      "is not divisible by 3 \n",
      "19\n",
      "is not divisible by 3 \n",
      "23\n",
      "is not divisible by 3 \n",
      "45\n",
      "is divisible by 3\n",
      "67\n",
      "is not divisible by 3 \n",
      "34\n",
      "is not divisible by 3 \n",
      "23\n",
      "is not divisible by 3 \n",
      "56\n",
      "is not divisible by 3 \n",
      "75\n",
      "is divisible by 3\n"
     ]
    }
   ],
   "source": [
    "list = [1,2,3,4,5,6,7,8,9,10,11,12,13,14,15,17,19,23,45,67,34,23,56,75]\n",
    "for i in list:\n",
    "    if (i % 3 == 0 ):\n",
    "        print(i)\n",
    "        print(\"is divisible by 3\")\n",
    "    else:\n",
    "        print(i)\n",
    "        print(\"is not divisible by 3 \")"
   ]
  },
  {
   "cell_type": "markdown",
   "id": "309aa898-5401-4d88-bfd6-8049d7f8cd2b",
   "metadata": {},
   "source": [
    "abc = [1,4,5,6,7,] mutable data types\n",
    "abhhj = (1,5,6,6,7,7,4,) this is a tuple "
   ]
  }
 ],
 "metadata": {
  "kernelspec": {
   "display_name": "Python 3 (ipykernel)",
   "language": "python",
   "name": "python3"
  },
  "language_info": {
   "codemirror_mode": {
    "name": "ipython",
    "version": 3
   },
   "file_extension": ".py",
   "mimetype": "text/x-python",
   "name": "python",
   "nbconvert_exporter": "python",
   "pygments_lexer": "ipython3",
   "version": "3.10.8"
  }
 },
 "nbformat": 4,
 "nbformat_minor": 5
}
